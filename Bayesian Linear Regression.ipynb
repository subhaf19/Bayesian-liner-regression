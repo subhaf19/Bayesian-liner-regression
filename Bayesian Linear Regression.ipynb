{
 "cells": [
  {
   "cell_type": "code",
   "execution_count": null,
   "metadata": {},
   "outputs": [],
   "source": [
    "import pandas as pd\n",
    "import numpy as np\n",
    "import seaborn as sns\n",
    "import matplotlib.pyplot as plt\n",
    "%matplotlib inliney_obs \n",
    "\n",
    "X = my_data.iloc[:,0:2].values"
   ]
  },
  {
   "cell_type": "code",
   "execution_count": 3,
   "metadata": {},
   "outputs": [],
   "source": [
    "Dataset=pd.read_csv(\"C:/Users/arpithasn/Desktop/Dataset/mmm_with_noads.csv\")"
   ]
  },
  {
   "cell_type": "code",
   "execution_count": 4,
   "metadata": {},
   "outputs": [
    {
     "name": "stdout",
     "output_type": "stream",
     "text": [
      "(7442, 9)\n"
     ]
    }
   ],
   "source": [
    "print(Dataset.shape)"
   ]
  },
  {
   "cell_type": "code",
   "execution_count": 5,
   "metadata": {},
   "outputs": [
    {
     "name": "stdout",
     "output_type": "stream",
     "text": [
      "Index(['period', 'whscode', 'advertisement_expenses', 'newspaper', 'noad',\n",
      "       'others', 'radio', 'television', 'linetotal'],\n",
      "      dtype='object')\n"
     ]
    }
   ],
   "source": [
    "print(Dataset.columns)"
   ]
  },
  {
   "cell_type": "code",
   "execution_count": 6,
   "metadata": {},
   "outputs": [
    {
     "data": {
      "text/html": [
       "<div>\n",
       "<style scoped>\n",
       "    .dataframe tbody tr th:only-of-type {\n",
       "        vertical-align: middle;\n",
       "    }\n",
       "\n",
       "    .dataframe tbody tr th {\n",
       "        vertical-align: top;\n",
       "    }\n",
       "\n",
       "    .dataframe thead th {\n",
       "        text-align: right;\n",
       "    }\n",
       "</style>\n",
       "<table border=\"1\" class=\"dataframe\">\n",
       "  <thead>\n",
       "    <tr style=\"text-align: right;\">\n",
       "      <th></th>\n",
       "      <th>period</th>\n",
       "      <th>whscode</th>\n",
       "      <th>advertisement_expenses</th>\n",
       "      <th>newspaper</th>\n",
       "      <th>noad</th>\n",
       "      <th>others</th>\n",
       "      <th>radio</th>\n",
       "      <th>television</th>\n",
       "      <th>linetotal</th>\n",
       "    </tr>\n",
       "  </thead>\n",
       "  <tbody>\n",
       "    <tr>\n",
       "      <th>0</th>\n",
       "      <td>2016_14</td>\n",
       "      <td>36951</td>\n",
       "      <td>0.0</td>\n",
       "      <td>0.0</td>\n",
       "      <td>0</td>\n",
       "      <td>0.0</td>\n",
       "      <td>0.0</td>\n",
       "      <td>0.0</td>\n",
       "      <td>278959.08</td>\n",
       "    </tr>\n",
       "    <tr>\n",
       "      <th>1</th>\n",
       "      <td>2016_14</td>\n",
       "      <td>APK1</td>\n",
       "      <td>0.0</td>\n",
       "      <td>0.0</td>\n",
       "      <td>0</td>\n",
       "      <td>0.0</td>\n",
       "      <td>0.0</td>\n",
       "      <td>0.0</td>\n",
       "      <td>293424.00</td>\n",
       "    </tr>\n",
       "    <tr>\n",
       "      <th>2</th>\n",
       "      <td>2016_14</td>\n",
       "      <td>BZR1</td>\n",
       "      <td>0.0</td>\n",
       "      <td>0.0</td>\n",
       "      <td>0</td>\n",
       "      <td>0.0</td>\n",
       "      <td>0.0</td>\n",
       "      <td>0.0</td>\n",
       "      <td>29825.32</td>\n",
       "    </tr>\n",
       "    <tr>\n",
       "      <th>3</th>\n",
       "      <td>2016_14</td>\n",
       "      <td>CBE1</td>\n",
       "      <td>0.0</td>\n",
       "      <td>0.0</td>\n",
       "      <td>0</td>\n",
       "      <td>0.0</td>\n",
       "      <td>0.0</td>\n",
       "      <td>0.0</td>\n",
       "      <td>425092.33</td>\n",
       "    </tr>\n",
       "    <tr>\n",
       "      <th>4</th>\n",
       "      <td>2016_14</td>\n",
       "      <td>CBE2</td>\n",
       "      <td>0.0</td>\n",
       "      <td>0.0</td>\n",
       "      <td>0</td>\n",
       "      <td>0.0</td>\n",
       "      <td>0.0</td>\n",
       "      <td>0.0</td>\n",
       "      <td>1020994.48</td>\n",
       "    </tr>\n",
       "  </tbody>\n",
       "</table>\n",
       "</div>"
      ],
      "text/plain": [
       "    period whscode  advertisement_expenses  newspaper  noad  others  radio  \\\n",
       "0  2016_14   36951                     0.0        0.0     0     0.0    0.0   \n",
       "1  2016_14    APK1                     0.0        0.0     0     0.0    0.0   \n",
       "2  2016_14    BZR1                     0.0        0.0     0     0.0    0.0   \n",
       "3  2016_14    CBE1                     0.0        0.0     0     0.0    0.0   \n",
       "4  2016_14    CBE2                     0.0        0.0     0     0.0    0.0   \n",
       "\n",
       "   television   linetotal  \n",
       "0         0.0   278959.08  \n",
       "1         0.0   293424.00  \n",
       "2         0.0    29825.32  \n",
       "3         0.0   425092.33  \n",
       "4         0.0  1020994.48  "
      ]
     },
     "execution_count": 6,
     "metadata": {},
     "output_type": "execute_result"
    }
   ],
   "source": [
    "Dataset.head(5)"
   ]
  },
  {
   "cell_type": "code",
   "execution_count": 7,
   "metadata": {},
   "outputs": [
    {
     "data": {
      "text/html": [
       "<div>\n",
       "<style scoped>\n",
       "    .dataframe tbody tr th:only-of-type {\n",
       "        vertical-align: middle;\n",
       "    }\n",
       "\n",
       "    .dataframe tbody tr th {\n",
       "        vertical-align: top;\n",
       "    }\n",
       "\n",
       "    .dataframe thead th {\n",
       "        text-align: right;\n",
       "    }\n",
       "</style>\n",
       "<table border=\"1\" class=\"dataframe\">\n",
       "  <thead>\n",
       "    <tr style=\"text-align: right;\">\n",
       "      <th></th>\n",
       "      <th>advertisement_expenses</th>\n",
       "      <th>newspaper</th>\n",
       "      <th>noad</th>\n",
       "      <th>others</th>\n",
       "      <th>radio</th>\n",
       "      <th>television</th>\n",
       "      <th>linetotal</th>\n",
       "    </tr>\n",
       "  </thead>\n",
       "  <tbody>\n",
       "    <tr>\n",
       "      <th>count</th>\n",
       "      <td>7.442000e+03</td>\n",
       "      <td>7.442000e+03</td>\n",
       "      <td>7442.0</td>\n",
       "      <td>7.442000e+03</td>\n",
       "      <td>7.442000e+03</td>\n",
       "      <td>7.442000e+03</td>\n",
       "      <td>7.442000e+03</td>\n",
       "    </tr>\n",
       "    <tr>\n",
       "      <th>mean</th>\n",
       "      <td>1.959250e+04</td>\n",
       "      <td>1.532896e+04</td>\n",
       "      <td>0.0</td>\n",
       "      <td>7.403767e+03</td>\n",
       "      <td>1.525294e+03</td>\n",
       "      <td>2.341725e+04</td>\n",
       "      <td>2.074224e+06</td>\n",
       "    </tr>\n",
       "    <tr>\n",
       "      <th>std</th>\n",
       "      <td>9.717656e+04</td>\n",
       "      <td>3.800730e+05</td>\n",
       "      <td>0.0</td>\n",
       "      <td>1.130669e+05</td>\n",
       "      <td>3.986172e+04</td>\n",
       "      <td>5.552022e+05</td>\n",
       "      <td>2.108580e+06</td>\n",
       "    </tr>\n",
       "    <tr>\n",
       "      <th>min</th>\n",
       "      <td>0.000000e+00</td>\n",
       "      <td>0.000000e+00</td>\n",
       "      <td>0.0</td>\n",
       "      <td>0.000000e+00</td>\n",
       "      <td>0.000000e+00</td>\n",
       "      <td>0.000000e+00</td>\n",
       "      <td>0.000000e+00</td>\n",
       "    </tr>\n",
       "    <tr>\n",
       "      <th>25%</th>\n",
       "      <td>0.000000e+00</td>\n",
       "      <td>0.000000e+00</td>\n",
       "      <td>0.0</td>\n",
       "      <td>0.000000e+00</td>\n",
       "      <td>0.000000e+00</td>\n",
       "      <td>0.000000e+00</td>\n",
       "      <td>7.354889e+05</td>\n",
       "    </tr>\n",
       "    <tr>\n",
       "      <th>50%</th>\n",
       "      <td>0.000000e+00</td>\n",
       "      <td>0.000000e+00</td>\n",
       "      <td>0.0</td>\n",
       "      <td>0.000000e+00</td>\n",
       "      <td>0.000000e+00</td>\n",
       "      <td>0.000000e+00</td>\n",
       "      <td>1.498273e+06</td>\n",
       "    </tr>\n",
       "    <tr>\n",
       "      <th>75%</th>\n",
       "      <td>3.500000e+03</td>\n",
       "      <td>0.000000e+00</td>\n",
       "      <td>0.0</td>\n",
       "      <td>0.000000e+00</td>\n",
       "      <td>0.000000e+00</td>\n",
       "      <td>0.000000e+00</td>\n",
       "      <td>2.669555e+06</td>\n",
       "    </tr>\n",
       "    <tr>\n",
       "      <th>max</th>\n",
       "      <td>3.062883e+06</td>\n",
       "      <td>1.457104e+07</td>\n",
       "      <td>0.0</td>\n",
       "      <td>3.119083e+06</td>\n",
       "      <td>1.728090e+06</td>\n",
       "      <td>2.152172e+07</td>\n",
       "      <td>2.133214e+07</td>\n",
       "    </tr>\n",
       "  </tbody>\n",
       "</table>\n",
       "</div>"
      ],
      "text/plain": [
       "       advertisement_expenses     newspaper    noad        others  \\\n",
       "count            7.442000e+03  7.442000e+03  7442.0  7.442000e+03   \n",
       "mean             1.959250e+04  1.532896e+04     0.0  7.403767e+03   \n",
       "std              9.717656e+04  3.800730e+05     0.0  1.130669e+05   \n",
       "min              0.000000e+00  0.000000e+00     0.0  0.000000e+00   \n",
       "25%              0.000000e+00  0.000000e+00     0.0  0.000000e+00   \n",
       "50%              0.000000e+00  0.000000e+00     0.0  0.000000e+00   \n",
       "75%              3.500000e+03  0.000000e+00     0.0  0.000000e+00   \n",
       "max              3.062883e+06  1.457104e+07     0.0  3.119083e+06   \n",
       "\n",
       "              radio    television     linetotal  \n",
       "count  7.442000e+03  7.442000e+03  7.442000e+03  \n",
       "mean   1.525294e+03  2.341725e+04  2.074224e+06  \n",
       "std    3.986172e+04  5.552022e+05  2.108580e+06  \n",
       "min    0.000000e+00  0.000000e+00  0.000000e+00  \n",
       "25%    0.000000e+00  0.000000e+00  7.354889e+05  \n",
       "50%    0.000000e+00  0.000000e+00  1.498273e+06  \n",
       "75%    0.000000e+00  0.000000e+00  2.669555e+06  \n",
       "max    1.728090e+06  2.152172e+07  2.133214e+07  "
      ]
     },
     "execution_count": 7,
     "metadata": {},
     "output_type": "execute_result"
    }
   ],
   "source": [
    "Dataset.describe()"
   ]
  },
  {
   "cell_type": "code",
   "execution_count": 8,
   "metadata": {},
   "outputs": [
    {
     "data": {
      "text/plain": [
       "period                    False\n",
       "whscode                   False\n",
       "advertisement_expenses    False\n",
       "newspaper                 False\n",
       "noad                      False\n",
       "others                    False\n",
       "radio                     False\n",
       "television                False\n",
       "linetotal                 False\n",
       "dtype: bool"
      ]
     },
     "execution_count": 8,
     "metadata": {},
     "output_type": "execute_result"
    }
   ],
   "source": [
    "Dataset.isnull().any()"
   ]
  },
  {
   "cell_type": "code",
   "execution_count": 9,
   "metadata": {},
   "outputs": [
    {
     "data": {
      "text/html": [
       "<div>\n",
       "<style scoped>\n",
       "    .dataframe tbody tr th:only-of-type {\n",
       "        vertical-align: middle;\n",
       "    }\n",
       "\n",
       "    .dataframe tbody tr th {\n",
       "        vertical-align: top;\n",
       "    }\n",
       "\n",
       "    .dataframe thead th {\n",
       "        text-align: right;\n",
       "    }\n",
       "</style>\n",
       "<table border=\"1\" class=\"dataframe\">\n",
       "  <thead>\n",
       "    <tr style=\"text-align: right;\">\n",
       "      <th></th>\n",
       "      <th>advertisement_expenses</th>\n",
       "      <th>newspaper</th>\n",
       "      <th>noad</th>\n",
       "      <th>others</th>\n",
       "      <th>radio</th>\n",
       "      <th>television</th>\n",
       "      <th>linetotal</th>\n",
       "    </tr>\n",
       "  </thead>\n",
       "  <tbody>\n",
       "    <tr>\n",
       "      <th>advertisement_expenses</th>\n",
       "      <td>1.000000</td>\n",
       "      <td>0.362363</td>\n",
       "      <td>NaN</td>\n",
       "      <td>0.345431</td>\n",
       "      <td>0.302390</td>\n",
       "      <td>0.357373</td>\n",
       "      <td>-0.020200</td>\n",
       "    </tr>\n",
       "    <tr>\n",
       "      <th>newspaper</th>\n",
       "      <td>0.362363</td>\n",
       "      <td>1.000000</td>\n",
       "      <td>NaN</td>\n",
       "      <td>0.608442</td>\n",
       "      <td>0.681002</td>\n",
       "      <td>0.894519</td>\n",
       "      <td>-0.039680</td>\n",
       "    </tr>\n",
       "    <tr>\n",
       "      <th>noad</th>\n",
       "      <td>NaN</td>\n",
       "      <td>NaN</td>\n",
       "      <td>NaN</td>\n",
       "      <td>NaN</td>\n",
       "      <td>NaN</td>\n",
       "      <td>NaN</td>\n",
       "      <td>NaN</td>\n",
       "    </tr>\n",
       "    <tr>\n",
       "      <th>others</th>\n",
       "      <td>0.345431</td>\n",
       "      <td>0.608442</td>\n",
       "      <td>NaN</td>\n",
       "      <td>1.000000</td>\n",
       "      <td>0.656751</td>\n",
       "      <td>0.619939</td>\n",
       "      <td>-0.064108</td>\n",
       "    </tr>\n",
       "    <tr>\n",
       "      <th>radio</th>\n",
       "      <td>0.302390</td>\n",
       "      <td>0.681002</td>\n",
       "      <td>NaN</td>\n",
       "      <td>0.656751</td>\n",
       "      <td>1.000000</td>\n",
       "      <td>0.665107</td>\n",
       "      <td>-0.037646</td>\n",
       "    </tr>\n",
       "    <tr>\n",
       "      <th>television</th>\n",
       "      <td>0.357373</td>\n",
       "      <td>0.894519</td>\n",
       "      <td>NaN</td>\n",
       "      <td>0.619939</td>\n",
       "      <td>0.665107</td>\n",
       "      <td>1.000000</td>\n",
       "      <td>-0.041496</td>\n",
       "    </tr>\n",
       "    <tr>\n",
       "      <th>linetotal</th>\n",
       "      <td>-0.020200</td>\n",
       "      <td>-0.039680</td>\n",
       "      <td>NaN</td>\n",
       "      <td>-0.064108</td>\n",
       "      <td>-0.037646</td>\n",
       "      <td>-0.041496</td>\n",
       "      <td>1.000000</td>\n",
       "    </tr>\n",
       "  </tbody>\n",
       "</table>\n",
       "</div>"
      ],
      "text/plain": [
       "                        advertisement_expenses  newspaper  noad    others  \\\n",
       "advertisement_expenses                1.000000   0.362363   NaN  0.345431   \n",
       "newspaper                             0.362363   1.000000   NaN  0.608442   \n",
       "noad                                       NaN        NaN   NaN       NaN   \n",
       "others                                0.345431   0.608442   NaN  1.000000   \n",
       "radio                                 0.302390   0.681002   NaN  0.656751   \n",
       "television                            0.357373   0.894519   NaN  0.619939   \n",
       "linetotal                            -0.020200  -0.039680   NaN -0.064108   \n",
       "\n",
       "                           radio  television  linetotal  \n",
       "advertisement_expenses  0.302390    0.357373  -0.020200  \n",
       "newspaper               0.681002    0.894519  -0.039680  \n",
       "noad                         NaN         NaN        NaN  \n",
       "others                  0.656751    0.619939  -0.064108  \n",
       "radio                   1.000000    0.665107  -0.037646  \n",
       "television              0.665107    1.000000  -0.041496  \n",
       "linetotal              -0.037646   -0.041496   1.000000  "
      ]
     },
     "execution_count": 9,
     "metadata": {},
     "output_type": "execute_result"
    }
   ],
   "source": [
    "Dataset.corr()"
   ]
  },
  {
   "cell_type": "code",
   "execution_count": 10,
   "metadata": {},
   "outputs": [],
   "source": [
    "dataset=Dataset.drop(['period', 'whscode','noad'],axis=1)\n"
   ]
  },
  {
   "cell_type": "code",
   "execution_count": 11,
   "metadata": {},
   "outputs": [
    {
     "data": {
      "text/html": [
       "<div>\n",
       "<style scoped>\n",
       "    .dataframe tbody tr th:only-of-type {\n",
       "        vertical-align: middle;\n",
       "    }\n",
       "\n",
       "    .dataframe tbody tr th {\n",
       "        vertical-align: top;\n",
       "    }\n",
       "\n",
       "    .dataframe thead th {\n",
       "        text-align: right;\n",
       "    }\n",
       "</style>\n",
       "<table border=\"1\" class=\"dataframe\">\n",
       "  <thead>\n",
       "    <tr style=\"text-align: right;\">\n",
       "      <th></th>\n",
       "      <th>advertisement_expenses</th>\n",
       "      <th>newspaper</th>\n",
       "      <th>others</th>\n",
       "      <th>radio</th>\n",
       "      <th>television</th>\n",
       "      <th>linetotal</th>\n",
       "    </tr>\n",
       "  </thead>\n",
       "  <tbody>\n",
       "    <tr>\n",
       "      <th>7440</th>\n",
       "      <td>0.0</td>\n",
       "      <td>0.0</td>\n",
       "      <td>0.0</td>\n",
       "      <td>0.0</td>\n",
       "      <td>0.0</td>\n",
       "      <td>370320.4</td>\n",
       "    </tr>\n",
       "    <tr>\n",
       "      <th>7441</th>\n",
       "      <td>5880.0</td>\n",
       "      <td>0.0</td>\n",
       "      <td>0.0</td>\n",
       "      <td>0.0</td>\n",
       "      <td>0.0</td>\n",
       "      <td>0.0</td>\n",
       "    </tr>\n",
       "  </tbody>\n",
       "</table>\n",
       "</div>"
      ],
      "text/plain": [
       "      advertisement_expenses  newspaper  others  radio  television  linetotal\n",
       "7440                     0.0        0.0     0.0    0.0         0.0   370320.4\n",
       "7441                  5880.0        0.0     0.0    0.0         0.0        0.0"
      ]
     },
     "execution_count": 11,
     "metadata": {},
     "output_type": "execute_result"
    }
   ],
   "source": [
    "dataset.tail(2)"
   ]
  },
  {
   "cell_type": "code",
   "execution_count": 13,
   "metadata": {},
   "outputs": [
    {
     "name": "stderr",
     "output_type": "stream",
     "text": [
      "WARNING (theano.configdefaults): g++ not available, if using conda: `conda install m2w64-toolchain`\n",
      "C:\\Users\\arpithasn\\AppData\\Local\\Continuum\\anaconda3\\lib\\site-packages\\theano\\configdefaults.py:560: UserWarning: DeprecationWarning: there is no c++ compiler.This is deprecated and with Theano 0.11 a c++ compiler will be mandatory\n",
      "  warnings.warn(\"DeprecationWarning: there is no c++ compiler.\"\n",
      "WARNING (theano.configdefaults): g++ not detected ! Theano will be unable to execute optimized C-implementations (for both CPU and GPU) and will default to Python implementations. Performance will be severely degraded. To remove this warning, set Theano flags cxx to an empty string.\n",
      "WARNING (theano.tensor.blas): Using NumPy C-API based implementation for BLAS functions.\n"
     ]
    }
   ],
   "source": [
    "import scipy\n",
    "import pymc3 as pm\n",
    "import seaborn as sns\n",
    "from sklearn.linear_model import LinearRegression"
   ]
  },
  {
   "cell_type": "code",
   "execution_count": 14,
   "metadata": {},
   "outputs": [],
   "source": [
    "y_obs = dataset.linetotal.astype(float).values\n",
    "\n",
    "X = dataset.iloc[:,0:4].values"
   ]
  },
  {
   "cell_type": "code",
   "execution_count": 15,
   "metadata": {},
   "outputs": [
    {
     "data": {
      "text/plain": [
       "array([[   0.,    0.,    0.,    0.],\n",
       "       [   0.,    0.,    0.,    0.],\n",
       "       [   0.,    0.,    0.,    0.],\n",
       "       ...,\n",
       "       [   0.,    0.,    0.,    0.],\n",
       "       [   0.,    0.,    0.,    0.],\n",
       "       [5880.,    0.,    0.,    0.]])"
      ]
     },
     "execution_count": 15,
     "metadata": {},
     "output_type": "execute_result"
    }
   ],
   "source": [
    "X[:,0:4]"
   ]
  },
  {
   "cell_type": "code",
   "execution_count": 16,
   "metadata": {},
   "outputs": [],
   "source": [
    "from sklearn.model_selection import train_test_split\n",
    "x_train, x_test, y_train, y_test = train_test_split(X, y_obs)"
   ]
  },
  {
   "cell_type": "code",
   "execution_count": 17,
   "metadata": {},
   "outputs": [
    {
     "data": {
      "text/plain": [
       "LinearRegression(copy_X=True, fit_intercept=True, n_jobs=None,\n",
       "         normalize=False)"
      ]
     },
     "execution_count": 17,
     "metadata": {},
     "output_type": "execute_result"
    }
   ],
   "source": [
    "# OLS\n",
    "from sklearn import linear_model\n",
    "regr = linear_model.LinearRegression()\n",
    "regr.fit(x_train, y_train)"
   ]
  },
  {
   "cell_type": "code",
   "execution_count": 18,
   "metadata": {},
   "outputs": [
    {
     "name": "stdout",
     "output_type": "stream",
     "text": [
      "Intercept: \n",
      " 2080103.5400031838\n",
      "Coefficients: \n",
      " [ 0.35630542  0.00299848 -1.48044159  1.00298182]\n"
     ]
    }
   ],
   "source": [
    "print('Intercept: \\n', regr.intercept_)\n",
    "print('Coefficients: \\n', regr.coef_)"
   ]
  },
  {
   "cell_type": "code",
   "execution_count": 19,
   "metadata": {},
   "outputs": [],
   "source": [
    "a = regr.coef_"
   ]
  },
  {
   "cell_type": "code",
   "execution_count": 20,
   "metadata": {},
   "outputs": [],
   "source": [
    "a1 = a[0]\n",
    "a2 = a[1]\n",
    "a3 = a[2]\n",
    "a4 = a[3]\n",
    "\n"
   ]
  },
  {
   "cell_type": "code",
   "execution_count": 21,
   "metadata": {},
   "outputs": [],
   "source": [
    "predictions_ols = regr.predict(x_test)"
   ]
  },
  {
   "cell_type": "code",
   "execution_count": 22,
   "metadata": {},
   "outputs": [],
   "source": [
    "from statistics import mean"
   ]
  },
  {
   "cell_type": "code",
   "execution_count": 23,
   "metadata": {},
   "outputs": [],
   "source": [
    "def squared_error(ys_orig,ys_line):\n",
    "    return sum((ys_line - ys_orig) * (ys_line - ys_orig))"
   ]
  },
  {
   "cell_type": "code",
   "execution_count": 24,
   "metadata": {},
   "outputs": [],
   "source": [
    "def coefficient_of_determination(ys_orig,ys_line):\n",
    "    y_mean_line = [mean(ys_orig) for y in ys_orig]\n",
    "    squared_error_regr = squared_error(ys_orig, ys_line)\n",
    "    squared_total_y_mean = squared_error(ys_orig, y_mean_line)\n",
    "    return 1 - (squared_error_regr/squared_total_y_mean)"
   ]
  },
  {
   "cell_type": "code",
   "execution_count": 25,
   "metadata": {},
   "outputs": [],
   "source": [
    "regression_line_ols = regr.intercept_ + a1*x_train[:,0] + a2 * x_train[:,1]+ a3 * x_train[:,2]+ a4 * x_train[:,3]"
   ]
  },
  {
   "cell_type": "code",
   "execution_count": 26,
   "metadata": {},
   "outputs": [
    {
     "name": "stdout",
     "output_type": "stream",
     "text": [
      "0.004040342143565745\n"
     ]
    }
   ],
   "source": [
    "r_squared_ols = coefficient_of_determination(y_train,regression_line_ols)\n",
    "print(r_squared_ols)"
   ]
  },
  {
   "cell_type": "code",
   "execution_count": 27,
   "metadata": {},
   "outputs": [],
   "source": [
    "from theano import shared"
   ]
  },
  {
   "cell_type": "code",
   "execution_count": 28,
   "metadata": {},
   "outputs": [],
   "source": [
    "shared_x = shared(x_train)"
   ]
  },
  {
   "cell_type": "code",
   "execution_count": 30,
   "metadata": {},
   "outputs": [
    {
     "name": "stderr",
     "output_type": "stream",
     "text": [
      "Only 50 samples in chain.\n",
      "Auto-assigning NUTS sampler...\n",
      "Initializing NUTS using jitter+adapt_diag...\n",
      "Sequential sampling (2 chains in 1 job)\n",
      "NUTS: [sigma, b4, b3, b2, b1, bo]\n",
      " 55%|████████████████████████████████████████████▎                                   | 305/550 [47:39<33:06,  8.11s/it]\n"
     ]
    },
    {
     "ename": "ValueError",
     "evalue": "Mass matrix contains zeros on the diagonal. \nThe derivative of RV `b4`.ravel()[0] is zero.\nThe derivative of RV `b3`.ravel()[0] is zero.\nThe derivative of RV `b1_interval__`.ravel()[0] is zero.\nThe derivative of RV `bo`.ravel()[0] is zero.",
     "output_type": "error",
     "traceback": [
      "\u001b[1;31m---------------------------------------------------------------------------\u001b[0m",
      "\u001b[1;31mValueError\u001b[0m                                Traceback (most recent call last)",
      "\u001b[1;32m<ipython-input-30-75759fbee188>\u001b[0m in \u001b[0;36m<module>\u001b[1;34m\u001b[0m\n\u001b[0;32m     22\u001b[0m \u001b[1;33m\u001b[0m\u001b[0m\n\u001b[0;32m     23\u001b[0m \u001b[1;33m\u001b[0m\u001b[0m\n\u001b[1;32m---> 24\u001b[1;33m     \u001b[0mtrace\u001b[0m \u001b[1;33m=\u001b[0m \u001b[0mpm\u001b[0m\u001b[1;33m.\u001b[0m\u001b[0msample\u001b[0m\u001b[1;33m(\u001b[0m\u001b[1;36m50\u001b[0m\u001b[1;33m,\u001b[0m \u001b[0mnjobs\u001b[0m\u001b[1;33m=\u001b[0m\u001b[1;36m1\u001b[0m\u001b[1;33m)\u001b[0m\u001b[1;33m\u001b[0m\u001b[1;33m\u001b[0m\u001b[0m\n\u001b[0m\u001b[0;32m     25\u001b[0m \u001b[1;33m\u001b[0m\u001b[0m\n\u001b[0;32m     26\u001b[0m \u001b[1;33m\u001b[0m\u001b[0m\n",
      "\u001b[1;32m~\\AppData\\Local\\Continuum\\anaconda3\\lib\\site-packages\\pymc3\\sampling.py\u001b[0m in \u001b[0;36msample\u001b[1;34m(draws, step, init, n_init, start, trace, chain_idx, chains, cores, tune, nuts_kwargs, step_kwargs, progressbar, model, random_seed, live_plot, discard_tuned_samples, live_plot_kwargs, compute_convergence_checks, use_mmap, **kwargs)\u001b[0m\n\u001b[0;32m    457\u001b[0m                 \u001b[0m_log\u001b[0m\u001b[1;33m.\u001b[0m\u001b[0minfo\u001b[0m\u001b[1;33m(\u001b[0m\u001b[1;34m'Sequential sampling ({} chains in 1 job)'\u001b[0m\u001b[1;33m.\u001b[0m\u001b[0mformat\u001b[0m\u001b[1;33m(\u001b[0m\u001b[0mchains\u001b[0m\u001b[1;33m)\u001b[0m\u001b[1;33m)\u001b[0m\u001b[1;33m\u001b[0m\u001b[1;33m\u001b[0m\u001b[0m\n\u001b[0;32m    458\u001b[0m                 \u001b[0m_print_step_hierarchy\u001b[0m\u001b[1;33m(\u001b[0m\u001b[0mstep\u001b[0m\u001b[1;33m)\u001b[0m\u001b[1;33m\u001b[0m\u001b[1;33m\u001b[0m\u001b[0m\n\u001b[1;32m--> 459\u001b[1;33m                 \u001b[0mtrace\u001b[0m \u001b[1;33m=\u001b[0m \u001b[0m_sample_many\u001b[0m\u001b[1;33m(\u001b[0m\u001b[1;33m**\u001b[0m\u001b[0msample_args\u001b[0m\u001b[1;33m)\u001b[0m\u001b[1;33m\u001b[0m\u001b[1;33m\u001b[0m\u001b[0m\n\u001b[0m\u001b[0;32m    460\u001b[0m \u001b[1;33m\u001b[0m\u001b[0m\n\u001b[0;32m    461\u001b[0m         \u001b[0mdiscard\u001b[0m \u001b[1;33m=\u001b[0m \u001b[0mtune\u001b[0m \u001b[1;32mif\u001b[0m \u001b[0mdiscard_tuned_samples\u001b[0m \u001b[1;32melse\u001b[0m \u001b[1;36m0\u001b[0m\u001b[1;33m\u001b[0m\u001b[1;33m\u001b[0m\u001b[0m\n",
      "\u001b[1;32m~\\AppData\\Local\\Continuum\\anaconda3\\lib\\site-packages\\pymc3\\sampling.py\u001b[0m in \u001b[0;36m_sample_many\u001b[1;34m(draws, chain, chains, start, random_seed, step, **kwargs)\u001b[0m\n\u001b[0;32m    503\u001b[0m     \u001b[1;32mfor\u001b[0m \u001b[0mi\u001b[0m \u001b[1;32min\u001b[0m \u001b[0mrange\u001b[0m\u001b[1;33m(\u001b[0m\u001b[0mchains\u001b[0m\u001b[1;33m)\u001b[0m\u001b[1;33m:\u001b[0m\u001b[1;33m\u001b[0m\u001b[1;33m\u001b[0m\u001b[0m\n\u001b[0;32m    504\u001b[0m         trace = _sample(draws=draws, chain=chain + i, start=start[i],\n\u001b[1;32m--> 505\u001b[1;33m                         step=step, random_seed=random_seed[i], **kwargs)\n\u001b[0m\u001b[0;32m    506\u001b[0m         \u001b[1;32mif\u001b[0m \u001b[0mtrace\u001b[0m \u001b[1;32mis\u001b[0m \u001b[1;32mNone\u001b[0m\u001b[1;33m:\u001b[0m\u001b[1;33m\u001b[0m\u001b[1;33m\u001b[0m\u001b[0m\n\u001b[0;32m    507\u001b[0m             \u001b[1;32mif\u001b[0m \u001b[0mlen\u001b[0m\u001b[1;33m(\u001b[0m\u001b[0mtraces\u001b[0m\u001b[1;33m)\u001b[0m \u001b[1;33m==\u001b[0m \u001b[1;36m0\u001b[0m\u001b[1;33m:\u001b[0m\u001b[1;33m\u001b[0m\u001b[1;33m\u001b[0m\u001b[0m\n",
      "\u001b[1;32m~\\AppData\\Local\\Continuum\\anaconda3\\lib\\site-packages\\pymc3\\sampling.py\u001b[0m in \u001b[0;36m_sample\u001b[1;34m(chain, progressbar, random_seed, start, draws, step, trace, tune, model, live_plot, live_plot_kwargs, **kwargs)\u001b[0m\n\u001b[0;32m    547\u001b[0m     \u001b[1;32mtry\u001b[0m\u001b[1;33m:\u001b[0m\u001b[1;33m\u001b[0m\u001b[1;33m\u001b[0m\u001b[0m\n\u001b[0;32m    548\u001b[0m         \u001b[0mstrace\u001b[0m \u001b[1;33m=\u001b[0m \u001b[1;32mNone\u001b[0m\u001b[1;33m\u001b[0m\u001b[1;33m\u001b[0m\u001b[0m\n\u001b[1;32m--> 549\u001b[1;33m         \u001b[1;32mfor\u001b[0m \u001b[0mit\u001b[0m\u001b[1;33m,\u001b[0m \u001b[0mstrace\u001b[0m \u001b[1;32min\u001b[0m \u001b[0menumerate\u001b[0m\u001b[1;33m(\u001b[0m\u001b[0msampling\u001b[0m\u001b[1;33m)\u001b[0m\u001b[1;33m:\u001b[0m\u001b[1;33m\u001b[0m\u001b[1;33m\u001b[0m\u001b[0m\n\u001b[0m\u001b[0;32m    550\u001b[0m             \u001b[1;32mif\u001b[0m \u001b[0mlive_plot\u001b[0m\u001b[1;33m:\u001b[0m\u001b[1;33m\u001b[0m\u001b[1;33m\u001b[0m\u001b[0m\n\u001b[0;32m    551\u001b[0m                 \u001b[1;32mif\u001b[0m \u001b[0mlive_plot_kwargs\u001b[0m \u001b[1;32mis\u001b[0m \u001b[1;32mNone\u001b[0m\u001b[1;33m:\u001b[0m\u001b[1;33m\u001b[0m\u001b[1;33m\u001b[0m\u001b[0m\n",
      "\u001b[1;32m~\\AppData\\Local\\Continuum\\anaconda3\\lib\\site-packages\\tqdm\\_tqdm.py\u001b[0m in \u001b[0;36m__iter__\u001b[1;34m(self)\u001b[0m\n\u001b[0;32m   1020\u001b[0m                 \"\"\"), fp_write=getattr(self.fp, 'write', sys.stderr.write))\n\u001b[0;32m   1021\u001b[0m \u001b[1;33m\u001b[0m\u001b[0m\n\u001b[1;32m-> 1022\u001b[1;33m             \u001b[1;32mfor\u001b[0m \u001b[0mobj\u001b[0m \u001b[1;32min\u001b[0m \u001b[0miterable\u001b[0m\u001b[1;33m:\u001b[0m\u001b[1;33m\u001b[0m\u001b[1;33m\u001b[0m\u001b[0m\n\u001b[0m\u001b[0;32m   1023\u001b[0m                 \u001b[1;32myield\u001b[0m \u001b[0mobj\u001b[0m\u001b[1;33m\u001b[0m\u001b[1;33m\u001b[0m\u001b[0m\n\u001b[0;32m   1024\u001b[0m                 \u001b[1;31m# Update and possibly print the progressbar.\u001b[0m\u001b[1;33m\u001b[0m\u001b[1;33m\u001b[0m\u001b[1;33m\u001b[0m\u001b[0m\n",
      "\u001b[1;32m~\\AppData\\Local\\Continuum\\anaconda3\\lib\\site-packages\\pymc3\\sampling.py\u001b[0m in \u001b[0;36m_iter_sample\u001b[1;34m(draws, step, start, trace, chain, tune, model, random_seed)\u001b[0m\n\u001b[0;32m    643\u001b[0m                 \u001b[0mstep\u001b[0m \u001b[1;33m=\u001b[0m \u001b[0mstop_tuning\u001b[0m\u001b[1;33m(\u001b[0m\u001b[0mstep\u001b[0m\u001b[1;33m)\u001b[0m\u001b[1;33m\u001b[0m\u001b[1;33m\u001b[0m\u001b[0m\n\u001b[0;32m    644\u001b[0m             \u001b[1;32mif\u001b[0m \u001b[0mstep\u001b[0m\u001b[1;33m.\u001b[0m\u001b[0mgenerates_stats\u001b[0m\u001b[1;33m:\u001b[0m\u001b[1;33m\u001b[0m\u001b[1;33m\u001b[0m\u001b[0m\n\u001b[1;32m--> 645\u001b[1;33m                 \u001b[0mpoint\u001b[0m\u001b[1;33m,\u001b[0m \u001b[0mstates\u001b[0m \u001b[1;33m=\u001b[0m \u001b[0mstep\u001b[0m\u001b[1;33m.\u001b[0m\u001b[0mstep\u001b[0m\u001b[1;33m(\u001b[0m\u001b[0mpoint\u001b[0m\u001b[1;33m)\u001b[0m\u001b[1;33m\u001b[0m\u001b[1;33m\u001b[0m\u001b[0m\n\u001b[0m\u001b[0;32m    646\u001b[0m                 \u001b[1;32mif\u001b[0m \u001b[0mstrace\u001b[0m\u001b[1;33m.\u001b[0m\u001b[0msupports_sampler_stats\u001b[0m\u001b[1;33m:\u001b[0m\u001b[1;33m\u001b[0m\u001b[1;33m\u001b[0m\u001b[0m\n\u001b[0;32m    647\u001b[0m                     \u001b[0mstrace\u001b[0m\u001b[1;33m.\u001b[0m\u001b[0mrecord\u001b[0m\u001b[1;33m(\u001b[0m\u001b[0mpoint\u001b[0m\u001b[1;33m,\u001b[0m \u001b[0mstates\u001b[0m\u001b[1;33m)\u001b[0m\u001b[1;33m\u001b[0m\u001b[1;33m\u001b[0m\u001b[0m\n",
      "\u001b[1;32m~\\AppData\\Local\\Continuum\\anaconda3\\lib\\site-packages\\pymc3\\step_methods\\arraystep.py\u001b[0m in \u001b[0;36mstep\u001b[1;34m(self, point)\u001b[0m\n\u001b[0;32m    245\u001b[0m \u001b[1;33m\u001b[0m\u001b[0m\n\u001b[0;32m    246\u001b[0m         \u001b[1;32mif\u001b[0m \u001b[0mself\u001b[0m\u001b[1;33m.\u001b[0m\u001b[0mgenerates_stats\u001b[0m\u001b[1;33m:\u001b[0m\u001b[1;33m\u001b[0m\u001b[1;33m\u001b[0m\u001b[0m\n\u001b[1;32m--> 247\u001b[1;33m             \u001b[0mapoint\u001b[0m\u001b[1;33m,\u001b[0m \u001b[0mstats\u001b[0m \u001b[1;33m=\u001b[0m \u001b[0mself\u001b[0m\u001b[1;33m.\u001b[0m\u001b[0mastep\u001b[0m\u001b[1;33m(\u001b[0m\u001b[0marray\u001b[0m\u001b[1;33m)\u001b[0m\u001b[1;33m\u001b[0m\u001b[1;33m\u001b[0m\u001b[0m\n\u001b[0m\u001b[0;32m    248\u001b[0m             \u001b[0mpoint\u001b[0m \u001b[1;33m=\u001b[0m \u001b[0mself\u001b[0m\u001b[1;33m.\u001b[0m\u001b[0m_logp_dlogp_func\u001b[0m\u001b[1;33m.\u001b[0m\u001b[0marray_to_full_dict\u001b[0m\u001b[1;33m(\u001b[0m\u001b[0mapoint\u001b[0m\u001b[1;33m)\u001b[0m\u001b[1;33m\u001b[0m\u001b[1;33m\u001b[0m\u001b[0m\n\u001b[0;32m    249\u001b[0m             \u001b[1;32mreturn\u001b[0m \u001b[0mpoint\u001b[0m\u001b[1;33m,\u001b[0m \u001b[0mstats\u001b[0m\u001b[1;33m\u001b[0m\u001b[1;33m\u001b[0m\u001b[0m\n",
      "\u001b[1;32m~\\AppData\\Local\\Continuum\\anaconda3\\lib\\site-packages\\pymc3\\step_methods\\hmc\\base_hmc.py\u001b[0m in \u001b[0;36mastep\u001b[1;34m(self, q0)\u001b[0m\n\u001b[0;32m    133\u001b[0m                 \u001b[1;33m(\u001b[0m\u001b[0mnp\u001b[0m\u001b[1;33m.\u001b[0m\u001b[0mabs\u001b[0m\u001b[1;33m(\u001b[0m\u001b[0mcheck_test_point\u001b[0m\u001b[1;33m)\u001b[0m \u001b[1;33m>=\u001b[0m \u001b[1;36m1e20\u001b[0m\u001b[1;33m)\u001b[0m \u001b[1;33m|\u001b[0m \u001b[0mnp\u001b[0m\u001b[1;33m.\u001b[0m\u001b[0misnan\u001b[0m\u001b[1;33m(\u001b[0m\u001b[0mcheck_test_point\u001b[0m\u001b[1;33m)\u001b[0m\u001b[1;33m\u001b[0m\u001b[1;33m\u001b[0m\u001b[0m\n\u001b[0;32m    134\u001b[0m             ]\n\u001b[1;32m--> 135\u001b[1;33m             \u001b[0mself\u001b[0m\u001b[1;33m.\u001b[0m\u001b[0mpotential\u001b[0m\u001b[1;33m.\u001b[0m\u001b[0mraise_ok\u001b[0m\u001b[1;33m(\u001b[0m\u001b[0mself\u001b[0m\u001b[1;33m.\u001b[0m\u001b[0m_logp_dlogp_func\u001b[0m\u001b[1;33m.\u001b[0m\u001b[0m_ordering\u001b[0m\u001b[1;33m.\u001b[0m\u001b[0mvmap\u001b[0m\u001b[1;33m)\u001b[0m\u001b[1;33m\u001b[0m\u001b[1;33m\u001b[0m\u001b[0m\n\u001b[0m\u001b[0;32m    136\u001b[0m             message_energy = (\n\u001b[0;32m    137\u001b[0m                 \u001b[1;34m\"Bad initial energy, check any log probabilities that \"\u001b[0m\u001b[1;33m\u001b[0m\u001b[1;33m\u001b[0m\u001b[0m\n",
      "\u001b[1;32m~\\AppData\\Local\\Continuum\\anaconda3\\lib\\site-packages\\pymc3\\step_methods\\hmc\\quadpotential.py\u001b[0m in \u001b[0;36mraise_ok\u001b[1;34m(self, vmap)\u001b[0m\n\u001b[0;32m    229\u001b[0m                 errmsg.append('The derivative of RV `{}`.ravel()[{}]'\n\u001b[0;32m    230\u001b[0m                               ' is zero.'.format(*name_slc[ii]))\n\u001b[1;32m--> 231\u001b[1;33m             \u001b[1;32mraise\u001b[0m \u001b[0mValueError\u001b[0m\u001b[1;33m(\u001b[0m\u001b[1;34m'\\n'\u001b[0m\u001b[1;33m.\u001b[0m\u001b[0mjoin\u001b[0m\u001b[1;33m(\u001b[0m\u001b[0merrmsg\u001b[0m\u001b[1;33m)\u001b[0m\u001b[1;33m)\u001b[0m\u001b[1;33m\u001b[0m\u001b[1;33m\u001b[0m\u001b[0m\n\u001b[0m\u001b[0;32m    232\u001b[0m \u001b[1;33m\u001b[0m\u001b[0m\n\u001b[0;32m    233\u001b[0m         \u001b[1;32mif\u001b[0m \u001b[0mnp\u001b[0m\u001b[1;33m.\u001b[0m\u001b[0many\u001b[0m\u001b[1;33m(\u001b[0m\u001b[1;33m~\u001b[0m\u001b[0mnp\u001b[0m\u001b[1;33m.\u001b[0m\u001b[0misfinite\u001b[0m\u001b[1;33m(\u001b[0m\u001b[0mself\u001b[0m\u001b[1;33m.\u001b[0m\u001b[0m_stds\u001b[0m\u001b[1;33m)\u001b[0m\u001b[1;33m)\u001b[0m\u001b[1;33m:\u001b[0m\u001b[1;33m\u001b[0m\u001b[1;33m\u001b[0m\u001b[0m\n",
      "\u001b[1;31mValueError\u001b[0m: Mass matrix contains zeros on the diagonal. \nThe derivative of RV `b4`.ravel()[0] is zero.\nThe derivative of RV `b3`.ravel()[0] is zero.\nThe derivative of RV `b1_interval__`.ravel()[0] is zero.\nThe derivative of RV `bo`.ravel()[0] is zero."
     ]
    }
   ],
   "source": [
    "# Bayesian regression\n",
    "with pm.Model() as linear_model:\n",
    "    # Intercept\n",
    "    b0= pm.Normal('bo', mu = 0, sd = 10)\n",
    "    # Slope \n",
    "    b1 = pm.Uniform('b1',lower=0, upper=1)\n",
    "    # Standard deviation\n",
    "    b2 = pm.Normal('b2', mu = 0,sd = 10)\n",
    "    \n",
    "    b3 = pm.Normal('b3',mu = 0, sd = 10)\n",
    "    \n",
    "    b4 = pm.Normal('b4',mu = 0, sd = 10)\n",
    "    \n",
    "     # prior for the error term of due to the noise\n",
    "    sigma = pm.HalfCauchy('sigma', beta=10)\n",
    "    \n",
    "    # Estimate of mean\n",
    "    mu = b0 + b1 * shared_x[:,0]+ b2 * shared_x[:,1] + b3 * shared_x[:,2] + b4 * shared_x[:,3]\n",
    "    \n",
    "    # Observed values\n",
    "    Y_obs = pm.Normal('Y_obs', mu = mu, sd = sigma, observed = y_train)\n",
    "    \n",
    "    \n",
    "    trace = pm.sample(50, njobs=1)\n",
    "    \n",
    "    "
   ]
  },
  {
   "cell_type": "code",
   "execution_count": null,
   "metadata": {},
   "outputs": [],
   "source": [
    "pm.traceplot(trace);\n",
    "   \n",
    "pm.plot_posterior(trace, figsize = (12, 10), text_size = 20);\n",
    "   \n",
    "result  =  pm.summary(trace).round(2)"
   ]
  }
 ],
 "metadata": {
  "kernelspec": {
   "display_name": "Python 3",
   "language": "python",
   "name": "python3"
  },
  "language_info": {
   "codemirror_mode": {
    "name": "ipython",
    "version": 3
   },
   "file_extension": ".py",
   "mimetype": "text/x-python",
   "name": "python",
   "nbconvert_exporter": "python",
   "pygments_lexer": "ipython3",
   "version": "3.7.3"
  }
 },
 "nbformat": 4,
 "nbformat_minor": 2
}
